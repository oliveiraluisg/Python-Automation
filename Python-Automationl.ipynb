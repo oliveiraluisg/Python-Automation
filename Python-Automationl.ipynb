{
 "cells": [
  {
   "attachments": {},
   "cell_type": "markdown",
   "id": "a7447279",
   "metadata": {},
   "source": [
    "# Automação de Sistemas e Processos com Python\n",
    "\n",
    "### Descriçao\n",
    "\n",
    "Automação para coletar a cotação do Dólar no google e colocar em um bloco de notas e salvá-lo"
   ]
  },
  {
   "cell_type": "code",
   "execution_count": 1,
   "id": "ca33d7af",
   "metadata": {},
   "outputs": [],
   "source": [
    "import pyautogui\n",
    "import time\n",
    "from datetime import datetime\n",
    "import pyperclip"
   ]
  },
  {
   "cell_type": "code",
   "execution_count": 2,
   "id": "39785d5a",
   "metadata": {},
   "outputs": [],
   "source": [
    "pyautogui.PAUSE = 1\n",
    "\n",
    "# Abrir o navegador e pesquisar sobre o Dollar\n",
    "pyautogui.press(\"win\")\n",
    "pyautogui.write(\"Navegador\")\n",
    "pyautogui.press(\"enter\")\n",
    "time.sleep(3)\n",
    "pyautogui.write(\"Dollar\")\n",
    "pyautogui.press(\"enter\")\n",
    "\n",
    "# Conseguir a data e a hora atual com usando a lib datetime\n",
    "data_e_hora_atuais = datetime.now()\n",
    "data_e_hora_em_texto = data_e_hora_atuais.strftime(\"na data %d/%m/%Y ás %H:%M\")\n",
    "data_e_hora_simples = data_e_hora_atuais.strftime(\"%d.%m.2%Y_%Hh%Mm\")\n",
    "\n",
    "# Selecionando a informação e copiando\n",
    "pyautogui.moveTo(x=214, y=402)\n",
    "pyautogui.dragTo(x=529, y=406, duration=3)\n",
    "pyautogui.hotkey(\"ctrl\",\"c\")\n",
    "\n",
    "# Abrir o bloco de notas e colar as informações do Dollar\n",
    "pyautogui.press(\"win\")\n",
    "pyautogui.write(\"Bloco de Notas\")\n",
    "pyautogui.press(\"enter\")\n",
    "pyautogui.hotkey(\"ctrl\",\"v\")\n",
    "\n",
    "# Completando as informações usando o pyperclip\n",
    "pyperclip.copy(f\"é o valor do Dólar Americano  {data_e_hora_em_texto} \")\n",
    "pyautogui.press(\"space\")\n",
    "pyautogui.hotkey(\"ctrl\",\"v\")\n",
    "\n",
    "# Salvar como e criando um nome para o arquivo\n",
    "pyautogui.hotkey(\"ctrl\",\"shift\",\"s\")\n",
    "pyautogui.write(f\"Cotacao_Dolar {data_e_hora_simples}\")\n",
    "pyautogui.press(\"enter\")"
   ]
  },
  {
   "cell_type": "code",
   "execution_count": null,
   "id": "46b8813f",
   "metadata": {},
   "outputs": [],
   "source": [
    "# usada para descobrir as coordenadas do mouse\n",
    "# time.sleep(3)\n",
    "# print(pyautogui.position())"
   ]
  }
 ],
 "metadata": {
  "kernelspec": {
   "display_name": "Python 3 (ipykernel)",
   "language": "python",
   "name": "python3"
  },
  "language_info": {
   "codemirror_mode": {
    "name": "ipython",
    "version": 3
   },
   "file_extension": ".py",
   "mimetype": "text/x-python",
   "name": "python",
   "nbconvert_exporter": "python",
   "pygments_lexer": "ipython3",
   "version": "3.10.10"
  }
 },
 "nbformat": 4,
 "nbformat_minor": 5
}
